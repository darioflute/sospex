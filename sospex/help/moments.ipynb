{
 "cells": [
  {
   "cell_type": "markdown",
   "metadata": {},
   "source": [
    "[Previous](files/save.html) &nbsp; &nbsp; &nbsp; &nbsp; &nbsp;  [Next](files/erase.html)&nbsp; &nbsp; &nbsp; &nbsp; &nbsp;  [Tutorials](files/tutorials.html) &nbsp; &nbsp; &nbsp; &nbsp; &nbsp;  [Help](files/Help.html)"
   ]
  },
  {
   "cell_type": "markdown",
   "metadata": {},
   "source": [
    "## Fit Continuum and Compute Moments"
   ]
  },
  {
   "cell_type": "markdown",
   "metadata": {},
   "source": [
    "|Button|Function|\n",
    "|:-:|:-|\n",
    "|<img src=\"../icons/guessCont.png\" alt=\"GuessCont\" style=\"width: 20px;\"/>|Define intervals to estimate continuum and moments|"
   ]
  },
  {
   "cell_type": "markdown",
   "metadata": {},
   "source": [
    "### Defining the guesses\n",
    "\n",
    "Once clicked on the icon under the spectrum, a dialog window will ask to select:\n",
    "\n",
    "- to fit the continuum with a constant or a line\n",
    "- the boundary condition for fitting (continuum has to be positive or not)\n",
    "- the kernel used to compute the spectrum (1, 5, or 9 pixels around the position of each spatial pixel)\n",
    "- the number of regions to tesselate the image where different guesses can be defined\n",
    "- the number of lines (emission and absorption) that can be defined\n",
    "\n",
    "After a choice is made, the tessellation chosen appears on the image and it is possible to \n",
    "define a first estimate of the region where to define the continuum by clicking and draggind the mouse\n",
    "on the spectral window.\n",
    "\n",
    "This is the initial choice which is applied to all the regions defined on the image. In many cases it is\n",
    "useful to define different guesses in different parts of the sky (e.g. when the velocity of a line changes\n",
    "in different parts of an object). To do this, move the cursor on the interested region and modify the two\n",
    "intervals on the spectrum by clicking and dragging their extremes.\n",
    "\n",
    "Once happy with one guess, it is possible to export this to a file (which will include also the modified redshift\n",
    "and reference wavelength) by clicking under the \"File\" menu the \"Guesses I/O\"->\"Export\" option.\n",
    "The data are then saved in a json file which can be reimported in a second moment by clicking under the \"File\" menu the \"Guesses I/O\"->\"Import\" option and specifying the file.\n",
    "\n",
    "To define another guess, reclick the icon and restart the process."
   ]
  },
  {
   "cell_type": "markdown",
   "metadata": {},
   "source": [
    "|Button|Function|\n",
    "|:-:|:-|\n",
    "|<img src=\"../icons/fit.png\" alt=\"Fit\" style=\"width: 20px;\"/>|Compute continuum and moments|"
   ]
  },
  {
   "cell_type": "markdown",
   "metadata": {},
   "source": [
    "### Exporting/Importing guesses"
   ]
  },
  {
   "cell_type": "markdown",
   "metadata": {},
   "source": [
    "|Button|Function|\n",
    "|:-:|:-|\n",
    "|<img src=\"../icons/exportGuess.png\" alt=\"GuessCont\" style=\"width: 20px;\"/>|Export guesses to json file|\n",
    "|<img src=\"../icons/importGuess.png\" alt=\"GuessCont\" style=\"width: 20px;\"/>|Import previous saved guesses|"
   ]
  },
  {
   "cell_type": "markdown",
   "metadata": {},
   "source": [
    "Once a set of guesses is defined, it is possible to export all the settings to an external file which can be imported once the same cube is opened to refine it or simply to continue\n",
    "working."
   ]
  },
  {
   "cell_type": "markdown",
   "metadata": {},
   "source": [
    "### Computing continuum and moments\n",
    "\n",
    "Under the image, click the icon. A dialog will ask first to fit the continuum.\n",
    "Then, once the continuum is defined, reclicking on the same icon will ask to compute the moments.\n",
    "\n",
    "It is possible to redo these actions only on a region to see how redifining the guess for this region is changing the result. It is advisable to rerun the fit for the entire cube once all the guesses are redefined.\n",
    "In fact, a smoothing is applied to guesses in the adjacent regions to avoid abrupt changes of the estimates.\n",
    "\n",
    "If the reference wavelength changes, it is possible to recompute C0 by clicking in the menu: \"Fit\"-->\"Recompute C0,v,sv\"."
   ]
  },
  {
   "cell_type": "markdown",
   "metadata": {},
   "source": [
    "## Lines\n",
    "\n",
    "The fitting of lines over the cube is under implementation. So far, it is possible to fit two emission lines only.\n",
    "The general case will be develop in the near future."
   ]
  },
  {
   "cell_type": "markdown",
   "metadata": {},
   "source": [
    "### The moments\n",
    "\n",
    "These are the definitions used.\n",
    "\n",
    "Zeroth moment: $M_0 = \\int F_\\lambda d\\lambda$.\n",
    "\n",
    "First moment:  $M_1 = \\int \\frac{\\lambda}{M_0} F_\\lambda d\\lambda$\n",
    "\n",
    "Second moment:  $M_2 = \\int \\frac{(\\lambda-M_1)^2}{M_0} F_\\lambda d\\lambda$\n",
    "\n",
    "Third moment: $M_3 = \\int \\frac{(\\lambda-M_1)^3}{M_0 \\sigma^3} F_\\lambda d\\lambda$ \n",
    "\n",
    "Fourth moment: $M_4 = \\int \\frac{(\\lambda-M_1)^4}{M_0 \\sigma^4} F_\\lambda d\\lambda - 3$\n",
    "\n",
    "with $\\sigma = \\sqrt{M_2}$.\n",
    "\n",
    "The zeroth moment (once the continuum emission is subtracted) gives\n",
    "information about the intensity of the line (or lines).\n",
    "\n",
    "The first moment gives information about the velocity field of the reference line:  \n",
    "\n",
    "$v = (M_1-\\lambda_0) c /\\lambda_0$,\n",
    "\n",
    "where $\\lambda_0$ is the reference wavelength:\n",
    "\n",
    "$\\lambda_0 = \\lambda_{line} (1+z)$.\n",
    "\n",
    "To obtain velocities relative to the mean velocity of the structure, one has to subtract $cz$.\n",
    "\n",
    "The second moment gives information about the velocity dispersion of the reference line:\n",
    "\n",
    "$\\sigma_v = \\sqrt{M_2} c /\\lambda_0$.\n",
    "\n",
    "The third moment, normalized skewness, tells if a distribution is slanted to the right (positive\n",
    "values) or the left (negative values).\n",
    "\n",
    "Finally, the fourth moment, kurtosis excess, tells if the distribution is platykurtic (more plate than the Gaussian) or leptokurtic (narrower than a Gaussian). The normalized kurtosis of a Gaussian is 3. This is the reason that subtracting 3 we compute the kurtosis excess with respect to a Gaussian distribution."
   ]
  }
 ],
 "metadata": {
  "kernelspec": {
   "display_name": "Python 3",
   "language": "python",
   "name": "python3"
  },
  "language_info": {
   "codemirror_mode": {
    "name": "ipython",
    "version": 3
   },
   "file_extension": ".py",
   "mimetype": "text/x-python",
   "name": "python",
   "nbconvert_exporter": "python",
   "pygments_lexer": "ipython3",
   "version": "3.7.7"
  }
 },
 "nbformat": 4,
 "nbformat_minor": 2
}
