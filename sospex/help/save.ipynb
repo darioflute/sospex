{
 "cells": [
  {
   "cell_type": "markdown",
   "metadata": {},
   "source": [
    "[Previous](files/contours.html) &nbsp; &nbsp; &nbsp; &nbsp; &nbsp;  [Next](files/moments.html)&nbsp; &nbsp; &nbsp; &nbsp; &nbsp;  [Tutorials](files/tutorials.html) &nbsp; &nbsp; &nbsp; &nbsp; &nbsp;  [Help](files/Help.html)"
   ]
  },
  {
   "cell_type": "markdown",
   "metadata": {},
   "source": [
    "## Save images and spectra"
   ]
  },
  {
   "cell_type": "markdown",
   "metadata": {},
   "source": [
    "|Button|Function|\n",
    "|:-:|:-|\n",
    "|<img src=\"../icons/camera.png\" alt=\"Save\" style=\"width: 20px;\"/>|Save images/spectra in different formats|"
   ]
  },
  {
   "cell_type": "markdown",
   "metadata": {},
   "source": [
    "### Save images\n",
    "\n",
    "By clicking the \"save\" icon under the image panel, a navigator window pops up to allow the user to save the image in a variety of different formats.\n",
    "\n",
    "In particular, by selecting a \"\\*.fits\" extension, the image is saved in FITS format with a minimal header including the astrometry, the object name, and the instrument used. If the image is retrieved from an archive, the archive name is conserved in the header as \"instrument\".\n",
    "\n",
    "The image can be otherwise saved without the astrometry information as a png, jpg, or pdf file by adding to the name\n",
    "the relative extensions \"\\*.png\", \"\\*.jpg\", or \"\\*.pdf\"."
   ]
  },
  {
   "cell_type": "markdown",
   "metadata": {},
   "source": [
    "### Save spectra\n",
    "\n",
    "Under the spectral panel, the same \"save\" icon is available to save the displayed spectra in a variety of formats.\n",
    "\n",
    "By choosing the \"\\*.fits\" extension, a FITS file is saved which contains in the header details of the observation\n",
    "and extensions corresponding to the wavelength, flux and, in the case of FIFI-LS, also the uncorrected flux, exposure, and atmospheric transmission.\n",
    "\n",
    "If the spectral tab corresponds to a given aperture, the details of the aperture used are saved in the header.\n",
    "\n",
    "The same data can be saved in simple ASCII or CSV formats by using the extensions \"\\*.txt\" and \"\\*.csv\".\n",
    "In this case, the first lines will contain some header information (including eventually the aperture used)\n",
    "with a \"\\#\" at the beginning of each line.\n",
    "\n",
    "Finally, the image itself can be save as  png, jpg, or pdf file by using a name with the relative extension (\"\\*.png\",\n",
    "\"\\*.jpg\", or \"\\*.pdf\")."
   ]
  },
  {
   "cell_type": "markdown",
   "metadata": {},
   "source": [
    "### Save cubes"
   ]
  },
  {
   "cell_type": "markdown",
   "metadata": {},
   "source": [
    "<img src=\"../icons/savecube.png\" alt=\"Save a cube\" style=\"height: 150px;\"/>"
   ]
  },
  {
   "cell_type": "markdown",
   "metadata": {},
   "source": [
    "Cubes can be saved through the menu or, in the case of trimming/cropping, through the icons (see [tutorial on cropping and trimming](files/croptrim.html).\n",
    "Once the continuum has been computed, it is possible to save the continuum-subctracted cube.\n",
    "Also, if a different atmospheric correction has been used in case of FIFI-LS data, it is possible to save the cube with the *Current status* option.\n"
   ]
  }
 ],
 "metadata": {
  "kernelspec": {
   "display_name": "Python 3",
   "language": "python",
   "name": "python3"
  },
  "language_info": {
   "codemirror_mode": {
    "name": "ipython",
    "version": 3
   },
   "file_extension": ".py",
   "mimetype": "text/x-python",
   "name": "python",
   "nbconvert_exporter": "python",
   "pygments_lexer": "ipython3",
   "version": "3.7.7"
  }
 },
 "nbformat": 4,
 "nbformat_minor": 2
}
