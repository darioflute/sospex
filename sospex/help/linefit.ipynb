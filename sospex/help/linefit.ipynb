{
 "cells": [
  {
   "cell_type": "markdown",
   "metadata": {},
   "source": [
    "[Previous](files/apertures.html) &nbsp; &nbsp; &nbsp; &nbsp; &nbsp;  [Next](files/extimages.html)&nbsp; &nbsp; &nbsp; &nbsp; &nbsp;  [Tutorials](files/tutorials.html) &nbsp; &nbsp; &nbsp; &nbsp; &nbsp;  [Help](files/Help.html)"
   ]
  },
  {
   "cell_type": "markdown",
   "metadata": {},
   "source": [
    "## Fit a line inside an aperture"
   ]
  },
  {
   "cell_type": "markdown",
   "metadata": {},
   "source": [
    "|Button|Function|\n",
    "|:-:|:-|\n",
    "|<img src=\"../icons/guess.png\" alt=\"Guess\" style=\"width: 20px;\"/>|Select guesses for line and continuum|\n",
    "|<img src=\"../icons/fitline.png\" alt=\"Fit line\" style=\"width: 20px;\"/>|Fit line and continuum|\n",
    "|<img src=\"../icons/exportAperture.png\" alt=\"Export Aperture\" style=\"width: 20px;\"/>|Export aperture and fit|\n",
    "|<img src=\"../icons/importAperture.png\" alt=\"Import Aperture\" style=\"width: 20px;\"/>|Import aperture and line/continumm guesses|"
   ]
  },
  {
   "cell_type": "markdown",
   "metadata": {},
   "source": [
    "###  Selecting continuum and line guesses\n",
    "\n",
    "After clicking the \"guess\" icon (in the right side toolbar), a popup window with\n",
    "several options will appear.\n",
    "\n",
    "<img src=\"../icons/linefitoptions.png\" alt=\"Fit options\" style=\"height: 250px;\"/>\n",
    "\n",
    "After selecting the best options, select two regions around\n",
    "the line(s) to define the continuum. by clicking (left button) and dragging twice.\n",
    "At this point, the selected number of lines will appear. It is possible to adjust\n",
    "continuum and lines by moving with the mouse the dots on the lines.\n",
    "\n",
    "### Fitting\n",
    "\n",
    "Once the optimal selection of continuum and lines is done, click on the icon with the\n",
    "line and gears to do the fit.\n",
    "If the fit is done, a purple line will be plotted on the spectrum.\n",
    "If the results are not good, it is possible to adjust the guesses and retry.\n",
    "\n",
    "Otherwise, one can start with a fresh guess and define, for instance, a different model\n",
    "for the fitting using a Voigt function instead of a Gaussian.\n",
    "\n",
    "### Export/import aperture\n",
    "\n",
    "There are two ways to export/import aperture and fits.\n",
    "\n",
    "Through the menu: File -> Aperture I/O -> Export or Import.\n",
    "\n",
    "Using the icons on the right side panel (to export) on on the left side panel (to import\n",
    "an aperture and guesses).\n",
    "\n",
    "Remember that if a file contains the result of the fit, by saving it again this fit will be\n",
    "superseeded by the new fit defined.\n"
   ]
  }
 ],
 "metadata": {
  "kernelspec": {
   "display_name": "Python 3",
   "language": "python",
   "name": "python3"
  },
  "language_info": {
   "codemirror_mode": {
    "name": "ipython",
    "version": 3
   },
   "file_extension": ".py",
   "mimetype": "text/x-python",
   "name": "python",
   "nbconvert_exporter": "python",
   "pygments_lexer": "ipython3",
   "version": "3.7.7"
  }
 },
 "nbformat": 4,
 "nbformat_minor": 2
}
