{
 "cells": [
  {
   "cell_type": "markdown",
   "metadata": {},
   "source": [
    "[Previous](files/Help.html) &nbsp; &nbsp; &nbsp; &nbsp; &nbsp;  [Next](files/start.html)&nbsp; &nbsp; &nbsp; &nbsp; &nbsp;  [Tutorials](files/tutorials.html) &nbsp; &nbsp; &nbsp; &nbsp; &nbsp;  [Help](files/Help.html)"
   ]
  },
  {
   "cell_type": "markdown",
   "metadata": {},
   "source": [
    "## Tutorials"
   ]
  },
  {
   "cell_type": "markdown",
   "metadata": {},
   "source": [
    "The following tutorials explain how to use most of the features of SOSPEX for exploring, analyzing, and \n",
    "manipulating the data or comparing to other images from public archives.\n",
    "\n",
    "- [Load a spectral cube](files/start.html)\n",
    "\n",
    "- [Zoom and Pan](files/zoom.html)\n",
    "\n",
    "- [Change image intensity levels and color map](files/intensity.html)\n",
    "\n",
    "- [Using the spectral panel](files/specpanel.html)\n",
    "\n",
    "- [Sliding along the spectral direction](files/slider.html)\n",
    "\n",
    "- [Select a slice of the cube](files/slice.html)\n",
    "\n",
    "- [Crop and trim the cubes](files/croptrim.html)\n",
    "\n",
    "- [Select and modify apertures](files/apertures.html)\n",
    "\n",
    "- [Fit lines inside apertures](files/linefit.html)\n",
    "\n",
    "- [Load external images](files/extimages.html)\n",
    "\n",
    "- [Blink between images](files/blink.html)\n",
    "\n",
    "- [Overlap contours](files/contours.html)\n",
    "\n",
    "- [Save images and spectra](files/save.html)\n",
    "\n",
    "- [Fit continuum and compute moments](files/moments.html)\n",
    "\n",
    "- [Erase part of the cube](files/erase.html)\n",
    "\n",
    "- [Compute new atmospheric transmission](files/atmtrans.html)\n",
    "\n",
    "- [Estimate FWHM of a point source](files/psf.html)\n"
   ]
  }
 ],
 "metadata": {
  "kernelspec": {
   "display_name": "Python 3",
   "language": "python",
   "name": "python3"
  },
  "language_info": {
   "codemirror_mode": {
    "name": "ipython",
    "version": 3
   },
   "file_extension": ".py",
   "mimetype": "text/x-python",
   "name": "python",
   "nbconvert_exporter": "python",
   "pygments_lexer": "ipython3",
   "version": "3.7.7"
  }
 },
 "nbformat": 4,
 "nbformat_minor": 2
}
