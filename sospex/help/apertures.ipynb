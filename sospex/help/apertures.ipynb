{
 "cells": [
  {
   "cell_type": "markdown",
   "metadata": {},
   "source": [
    "[Previous](files/croptrim.html) &nbsp; &nbsp; &nbsp; &nbsp; &nbsp;  [Next](files/linefit.html)&nbsp; &nbsp; &nbsp; &nbsp; &nbsp;  [Tutorials](files/tutorials.html) &nbsp; &nbsp; &nbsp; &nbsp; &nbsp;  [Help](files/Help.html)"
   ]
  },
  {
   "cell_type": "markdown",
   "metadata": {},
   "source": [
    "## Apertures"
   ]
  },
  {
   "cell_type": "markdown",
   "metadata": {},
   "source": [
    "|Button|Function|\n",
    "|:-:|:-|\n",
    "|<img src=\"../icons/apertures.png\" alt=\"Apertures\" style=\"width: 20px;\"/>|Apertures. Select an aperture.|\n",
    "|<img src=\"../icons/circle.png\" alt=\"Circle\" style=\"width: 20px;\"/>|Circle. Select a circular aperture.|\n",
    "|<img src=\"../icons/ellipse.png\" alt=\"Ellipse\" style=\"width: 20px;\"/>|Ellipse. Select an elliptical aperture.|\n",
    "|<img src=\"../icons/square.png\" alt=\"Square\" style=\"width: 20px;\"/>|Square. Select a square aperture.|\n",
    "|<img src=\"../icons/rectangle.png\" alt=\"Rectangle\" style=\"width: 20px;\"/>|Rectangle. Select a rectangular aperture.|\n",
    "|<img src=\"../icons/polygon.png\" alt=\"Polygon\" style=\"width: 20px;\"/>|Polygon. Select a polygonal aperture.|"
   ]
  },
  {
   "cell_type": "markdown",
   "metadata": {},
   "source": [
    "###  Aperture selection\n",
    "\n",
    "After clicking the \"aperture\" icon (in the main toolbar), one can select the desired aperture to deploy on the image.\n",
    "The choice of a circle, ellipse, square, and rectangle activate the mouse to select the center with pressing the left button and the extension by dragging the mouse and releasing the same button.\n",
    "\n",
    "In the case of the polygon, the first click will select the first point of the polygon. Subsequent clicks allow one to select the other vertices. To close the polygon, one has to click again on the initial point.\n",
    "\n",
    "Each time an aperture is selected, a new tab in the spectral panel will show the corresponding flux contained inside the aperture.\n",
    "\n",
    "### Modify the aperture\n",
    "\n",
    "Once an aperture is activated by selecting the respective tab, markers appear on the aperture.\n",
    "Clicking and dragging the markers allows one to modify the aperture.\n",
    "\n",
    "For circles, ellipses, square, and rectangles, the central marker allows one to move the aperture around.\n",
    "The other markers give the possibility to resize and rotate the apertures.\n",
    "\n",
    "In the case of the polygonal aperture, clicking on a marker allows one to move it and change the shape of the polygon.\n",
    "\n",
    "More actions are available using the keyboard. In particular, by clicking:\n",
    "\n",
    " - **i** on a side of the polygon, a new vertex is inserted allowing the possibility of more complicate shapes\n",
    " - **d** on a vertex of the polygon will delete the same vertex. If only three vertices are left, the entire aperture will be deleted. For the other shapes, clicking **d** removes the aperture\n",
    " - **t** toggle the markers. Markers will disappear/appear using **t** on the aperture.\n",
    " \n",
    " Another way to remove apertures is simply to remove the tab corresponding to the aperture.\n",
    "\n",
    "### Export/import aperture\n",
    "\n",
    "|Button|Function|\n",
    "|:-:|:-|\n",
    "|<img src=\"../icons/exportAperture.png\" alt=\"Export Aperture\" style=\"width: 20px;\"/>|Export aperture and fit|\n",
    "|<img src=\"../icons/importAperture.png\" alt=\"Import Aperture\" style=\"width: 20px;\"/>|Import aperture and line/continumm guesses|\n",
    "\n",
    "Once an aperture is defined, it is possible to export it to a Jyson file through the menu (File -> Aperture I/O -> Export).\n",
    "The file will have the name with the number of the aperture.\n",
    "It is possible to rename the file using the same extension (*.jsn).\n",
    "\n",
    "At this point, it is possible to import the same aperture using another cube (i.e. another band or another instrument).\n",
    "To do this, again through the menu (File -> Aperture I/O -> Import) and select the file with the aperture of interest.\n",
    "\n",
    "Alternatively, the same action can be done through icons.\n",
    "The \"import aperture\" icon is located on the left panel, while the \"export aperture\" icon\n",
    "appears on the right side in an aperture panel."
   ]
  }
 ],
 "metadata": {
  "kernelspec": {
   "display_name": "Python 3",
   "language": "python",
   "name": "python3"
  },
  "language_info": {
   "codemirror_mode": {
    "name": "ipython",
    "version": 3
   },
   "file_extension": ".py",
   "mimetype": "text/x-python",
   "name": "python",
   "nbconvert_exporter": "python",
   "pygments_lexer": "ipython3",
   "version": "3.7.7"
  }
 },
 "nbformat": 4,
 "nbformat_minor": 2
}
